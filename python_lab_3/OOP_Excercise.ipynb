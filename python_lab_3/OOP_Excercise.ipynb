{
  "cells": [
    {
      "attachments": {},
      "cell_type": "markdown",
      "metadata": {
        "id": "y44YlbPpX33l"
      },
      "source": [
        "# Classes Excercise"
      ]
    },
    {
      "attachments": {},
      "cell_type": "markdown",
      "metadata": {
        "id": "1Gx3uNeEjQhU"
      },
      "source": [
        "# 1 CREATING AND USING A CLASS"
      ]
    },
    {
      "attachments": {},
      "cell_type": "markdown",
      "metadata": {
        "id": "8Yd-mhF8fkcc"
      },
      "source": [
        "## 1.1 Creating a Class\n",
        "\n",
        "* Each instance created from the Dog class will store a **name** and an **age**.\n",
        "\n",
        "* we’ll give each dog the ability to **sit()** and **roll_over()**"
      ]
    },
    {
      "cell_type": "code",
      "execution_count": 8,
      "metadata": {
        "id": "vBFzPzXtfsgu"
      },
      "outputs": [],
      "source": [
        "class Dog:\n",
        "  \"\"\"A simple attempt to model a dog.\"\"\"\n",
        "\n",
        "  def __init__(self, name, age, gender=None):\n",
        "    \"\"\"Initialize name and age attributes.\"\"\"\n",
        "    self.name = name\n",
        "    self.age = age\n",
        "    self.gender = gender\n",
        "  \n",
        "  def sit(self):\n",
        "    \"\"\"Simulate a dog sitting in response to a command.\"\"\"\n",
        "    print(f\"{self.name} is now sitting.\")\n",
        "\n",
        "  def roll_over(self):\n",
        "    \"\"\"Simulate rolling over in response to a command.\"\"\"\n",
        "    print(f\"{self.name} rolled over!\")"
      ]
    },
    {
      "attachments": {},
      "cell_type": "markdown",
      "metadata": {
        "id": "ATHceiVsjI9A"
      },
      "source": [
        "## 1.2 Making an Instance from a Class"
      ]
    },
    {
      "cell_type": "code",
      "execution_count": 9,
      "metadata": {
        "id": "j5IQWQLzktSf"
      },
      "outputs": [],
      "source": [
        "my_dog = Dog('Willie', 6)"
      ]
    },
    {
      "attachments": {},
      "cell_type": "markdown",
      "metadata": {
        "id": "6Fuh6r2yjrN_"
      },
      "source": [
        "**Accessing Attributes**\n",
        "\n",
        "To access the attributes of an instance, you use dot notation.\n",
        "\n",
        "---\n",
        "my_dog.name\n",
        "\n",
        "\n",
        "---"
      ]
    },
    {
      "cell_type": "code",
      "execution_count": 11,
      "metadata": {
        "colab": {
          "base_uri": "https://localhost:8080/"
        },
        "id": "IqPbwt3kjLz7",
        "outputId": "e153796d-1c22-4386-a737-e8da54706340"
      },
      "outputs": [
        {
          "name": "stdout",
          "output_type": "stream",
          "text": [
            "My dog's name is Willie.\n",
            "My dog is 6 years old.\n",
            "My dog's gender is not specified.\n"
          ]
        }
      ],
      "source": [
        "print(f\"My dog's name is {my_dog.name}.\")\n",
        "print(f\"My dog is {my_dog.age} years old.\")\n",
        "if my_dog.gender==None:\n",
        "    print(f\"My dog's gender is not specified.\")"
      ]
    },
    {
      "attachments": {},
      "cell_type": "markdown",
      "metadata": {
        "id": "y_DVfXMnhHCV"
      },
      "source": [
        "## 1.3 Calling Methods\n",
        "After we create an instance from the class Dog, we can use dot notation to call any method defined in Dog. Let’s make our dog sit and roll over:"
      ]
    },
    {
      "cell_type": "code",
      "execution_count": 12,
      "metadata": {
        "colab": {
          "base_uri": "https://localhost:8080/"
        },
        "id": "UQP3coxVhMo6",
        "outputId": "f05becd6-6ff0-4841-cef6-e9bffda31d29"
      },
      "outputs": [
        {
          "name": "stdout",
          "output_type": "stream",
          "text": [
            "Willie is now sitting.\n",
            "Willie rolled over!\n"
          ]
        }
      ],
      "source": [
        "my_dog.sit()\n",
        "my_dog.roll_over()"
      ]
    },
    {
      "attachments": {},
      "cell_type": "markdown",
      "metadata": {
        "id": "Qh3QIepegUVd"
      },
      "source": [
        "## 1.4 Creating Multiple Instances\n",
        "\n",
        "You can create as many instances from a class as you need. Let’s create a second dog called your_dog:"
      ]
    },
    {
      "cell_type": "code",
      "execution_count": 13,
      "metadata": {
        "colab": {
          "base_uri": "https://localhost:8080/"
        },
        "id": "9-c4MWOIgPus",
        "outputId": "8431fbbb-402d-4df6-c71e-00db07d11d35"
      },
      "outputs": [
        {
          "name": "stdout",
          "output_type": "stream",
          "text": [
            "My dog's name is Willie.\n",
            "My dog is 6 years old.\n",
            "Willie is now sitting.\n",
            "\n",
            "Your dog's name is Lucy.\n",
            "Your dog is 3 years old.\n",
            "Lucy is now sitting.\n"
          ]
        }
      ],
      "source": [
        "my_dog = Dog('Willie', 6)\n",
        "your_dog = Dog('Lucy', 3)\n",
        "\n",
        "print(f\"My dog's name is {my_dog.name}.\")\n",
        "print(f\"My dog is {my_dog.age} years old.\")\n",
        "my_dog.sit()\n",
        "\n",
        "print(f\"\\nYour dog's name is {your_dog.name}.\")\n",
        "print(f\"Your dog is {your_dog.age} years old.\")\n",
        "your_dog.sit()"
      ]
    },
    {
      "attachments": {},
      "cell_type": "markdown",
      "metadata": {
        "id": "J9DgeAbPlxNY"
      },
      "source": [
        "\n",
        "\n",
        "---\n",
        "\n",
        "\n",
        "## 1.5 TRY IT YOURSELF"
      ]
    },
    {
      "attachments": {},
      "cell_type": "markdown",
      "metadata": {
        "id": "d7JH8uqrl8Mx"
      },
      "source": [
        "### 1.5.1 class Restaurant:\n",
        "\n",
        "* Make a class called **Restaurant**.\n",
        "* The **__ init __( )** method for Restaurant should store two attributes:\n",
        "  1.   **restaurant_name**\n",
        "  2.   **cuisine_type**\n",
        "\n",
        "\n",
        "* Make two methods called\n",
        "  1. **describe_restaurant( )** that prints these two pieces of information,\n",
        "  2. **open_restaurant( )** that prints a message indicating that the restaurant is open.\n",
        "\n"
      ]
    },
    {
      "cell_type": "code",
      "execution_count": 14,
      "metadata": {
        "id": "x4jgvTTRmNrE"
      },
      "outputs": [],
      "source": [
        "# Write your code here.\n",
        "class Restaurant:\n",
        "    \"\"\" A simple attempt to model a restaurant.\"\"\"\n",
        "    def __init__(self, restaurant_name: str, cuisine_type: str):\n",
        "        \"\"\" Initialize restaurant_name and cuisine_type attributes.\"\"\"\n",
        "        self.restaurant_name = restaurant_name\n",
        "        self.cuisine_type = cuisine_type\n",
        "        \n",
        "    def describe_restaurant(self):\n",
        "        \"\"\" Describe the restaurant. \"\"\"\"\"\n",
        "        print(f\"{self.restaurant_name} serves {self.cuisine_type} food.\")\n",
        "        \n",
        "    def open_restaurant(self):\n",
        "        \"\"\" Print the message indicating that the restaurant is open. \"\"\"\n",
        "        print(f\"{self.restaurant_name} is open.\")"
      ]
    },
    {
      "attachments": {},
      "cell_type": "markdown",
      "metadata": {
        "id": "0PlCdd-IwmgM"
      },
      "source": [
        "* Make an instance called **restaurant** from your class.\n",
        "* Print the two attributes individually\n",
        "* Then call both methods."
      ]
    },
    {
      "cell_type": "code",
      "execution_count": 15,
      "metadata": {
        "id": "er_kPyFOwtO0"
      },
      "outputs": [
        {
          "name": "stdout",
          "output_type": "stream",
          "text": [
            "AltoEat\n",
            "Indian\n",
            "AltoEat serves Indian food.\n",
            "AltoEat is open.\n"
          ]
        }
      ],
      "source": [
        "# Write your code here.\n",
        "restaurant = Restaurant(\"AltoEat\", \"Indian\")\n",
        "\n",
        "# print attributes of restaurant\n",
        "print(restaurant.restaurant_name)\n",
        "print(restaurant.cuisine_type)\n",
        "\n",
        "# call methods of restaurant\n",
        "restaurant.describe_restaurant()\n",
        "restaurant.open_restaurant()\n"
      ]
    },
    {
      "attachments": {},
      "cell_type": "markdown",
      "metadata": {
        "id": "MAgRNQLLmOEU"
      },
      "source": [
        "### 1.5.2 Three Restaurants\n",
        "\n",
        "* Start with your class from Exercise 1.\n",
        "* Create three different instances from the class, and call **describe_restaurant( )** for each instance."
      ]
    },
    {
      "cell_type": "code",
      "execution_count": 17,
      "metadata": {
        "id": "H-r6SPW0p5II"
      },
      "outputs": [
        {
          "name": "stdout",
          "output_type": "stream",
          "text": [
            "McDonals\n",
            "Fast Food\n",
            "McDonals serves Fast Food food.\n",
            "McDonals is open.\n",
            "\n",
            "KFC\n",
            "Chicken\n",
            "KFC serves Chicken food.\n",
            "KFC is open.\n",
            "\n",
            "Pizza Hut\n",
            "Italian\n",
            "Pizza Hut serves Italian food.\n",
            "Pizza Hut is open.\n",
            "\n"
          ]
        }
      ],
      "source": [
        "# Write your code here.\n",
        "restaurant1 = Restaurant(\"McDonals\", \"Fast Food\")\n",
        "\n",
        "# print attributes of restaurant\n",
        "print(restaurant1.restaurant_name)\n",
        "print(restaurant1.cuisine_type)\n",
        "\n",
        "# call methods of restaurant\n",
        "restaurant1.describe_restaurant()\n",
        "restaurant1.open_restaurant()\n",
        "print()\n",
        "\n",
        "\n",
        "restaurant2 = Restaurant(\"KFC\", \"Chicken\")\n",
        "\n",
        "# print attributes of restaurant\n",
        "print(restaurant2.restaurant_name)\n",
        "print(restaurant2.cuisine_type)\n",
        "\n",
        "# call methods of restaurant\n",
        "restaurant2.describe_restaurant()\n",
        "restaurant2.open_restaurant()\n",
        "print()\n",
        "\n",
        "\n",
        "restaurant3 = Restaurant(\"Pizza Hut\", \"Italian\")\n",
        "\n",
        "# print attributes of restaurant\n",
        "print(restaurant3.restaurant_name)\n",
        "print(restaurant3.cuisine_type)\n",
        "\n",
        "# call methods of restaurant\n",
        "restaurant3.describe_restaurant()\n",
        "restaurant3.open_restaurant()\n",
        "print()\n",
        "\n"
      ]
    },
    {
      "attachments": {},
      "cell_type": "markdown",
      "metadata": {
        "id": "gFsXtH3-mYsA"
      },
      "source": [
        "### 1.5.3 class Users:\n",
        "\n",
        "* Make a class called **User**.\n",
        "* Create two attributes called\n",
        "  1. **first_name**\n",
        "  2. **last_name**\n",
        "  3. other **attributes** that are typically stored in a user profile.\n",
        "\n",
        "* Make two methods called\n",
        "  1. **describe_user()** that prints a summary of the user’s information.\n",
        "  2. **greet_user()** that prints a personalized greeting to the user."
      ]
    },
    {
      "cell_type": "code",
      "execution_count": 22,
      "metadata": {},
      "outputs": [
        {
          "data": {
            "text/plain": [
              "2023"
            ]
          },
          "execution_count": 22,
          "metadata": {},
          "output_type": "execute_result"
        }
      ],
      "source": [
        "import datetime\n",
        "datetime.datetime.now().year"
      ]
    },
    {
      "cell_type": "code",
      "execution_count": 24,
      "metadata": {
        "id": "JQrv2CHwmgBH"
      },
      "outputs": [],
      "source": [
        "# Write your code here.\n",
        "\n",
        "class User:\n",
        "    \"\"\" A class that represents a user.\n",
        "    \n",
        "    Attributes:\n",
        "        first_name (str): First name of the user.\n",
        "        last_name (str): Last name of the user.\n",
        "        contact (int): Contact number of the user.\n",
        "        gender (str): Gender of the user.\n",
        "        birth_date (str): Birth date of the user format (YYYY-MM-DD).\n",
        "    \"\"\"\n",
        "    def __init__(self, first_name: str, last_name: str, contact: str, gender: str, birth_date: str):\n",
        "        self.first_name = first_name\n",
        "        self.last_name = last_name\n",
        "        self.contact = contact\n",
        "        self.gender = gender\n",
        "        self.birth_date = birth_date\n",
        "        # Calculate age from birth date\n",
        "        self.age = datetime.datetime.now().year - int(birth_date.split(\"-\")[0])\n",
        "        \n",
        "    def descibe_user(self):\n",
        "        print(f\"\"\"\n",
        "        User Information:\n",
        "        - First Name: {self.first_name}\n",
        "        - Last Name: {self.last_name}\n",
        "        - Contact: {self.contact}\n",
        "        - Gender: {self.gender}\n",
        "        - Birth Date: {self.birth_date}  \n",
        "        - Age: {self.age}    \n",
        "        \"\"\")\n",
        "        \n",
        "    def greet_user(self):\n",
        "        print(f\"Hello {self.first_name} {self.last_name}! Welcome to the platform.\")\n"
      ]
    },
    {
      "attachments": {},
      "cell_type": "markdown",
      "metadata": {
        "id": "2YyokRDhEHcm"
      },
      "source": [
        "* Create several instances representing different users, and call both methods for each user."
      ]
    },
    {
      "cell_type": "code",
      "execution_count": 25,
      "metadata": {
        "id": "4H0X6ah2EIgl"
      },
      "outputs": [
        {
          "name": "stdout",
          "output_type": "stream",
          "text": [
            "Hello Nattapong Kongkaew! Welcome to the platform.\n",
            "\n",
            "        User Information:\n",
            "        - First Name: Nattapong\n",
            "        - Last Name: Kongkaew\n",
            "        - Contact: 12345\n",
            "        - Gender: male\n",
            "        - Birth Date: 2002-06-03  \n",
            "        - Age: 21    \n",
            "        \n"
          ]
        }
      ],
      "source": [
        "# Write your code here.\n",
        "me = User('Nattapong','Kongkaew', '12345', 'male', '2002-06-03')\n",
        "me.greet_user()\n",
        "me.descibe_user()\n"
      ]
    },
    {
      "attachments": {},
      "cell_type": "markdown",
      "metadata": {
        "id": "dGLi60vOXtz0"
      },
      "source": [
        "# 2 WORKING WITH CLASSES"
      ]
    },
    {
      "attachments": {},
      "cell_type": "markdown",
      "metadata": {
        "id": "jay1C0ccezO0"
      },
      "source": [
        "## 2.1 The Car Class\n",
        "\n",
        "Let’s write a new class representing a car. Our class will store information about the kind of car we’re working with, and it will have a method that summarizes this information:"
      ]
    },
    {
      "cell_type": "code",
      "execution_count": 26,
      "metadata": {
        "colab": {
          "base_uri": "https://localhost:8080/"
        },
        "id": "qfOVcAbjelk1",
        "outputId": "951234a8-2706-493f-f334-d84abfac561d"
      },
      "outputs": [
        {
          "name": "stdout",
          "output_type": "stream",
          "text": [
            "2019 Audi A4\n"
          ]
        }
      ],
      "source": [
        "class Car:\n",
        "  \"\"\"A simple attempt to represent a car.\"\"\"\n",
        "  \n",
        "  def __init__(self, make, model, year):\n",
        "    \"\"\"Initialize attributes to describe a car.\"\"\"\n",
        "    self.make = make\n",
        "    self.model = model\n",
        "    self.year = year\n",
        "  \n",
        "  def get_descriptive_name(self):\n",
        "    \"\"\"Return a neatly formatted descriptive name.\"\"\"\n",
        "    long_name = f\"{self.year} {self.make} {self.model}\"\n",
        "    return long_name.title()\n",
        "\n",
        "my_new_car = Car('audi', 'a4', 2019)\n",
        "print(my_new_car.get_descriptive_name())"
      ]
    },
    {
      "attachments": {},
      "cell_type": "markdown",
      "metadata": {
        "id": "iUwqiTI7Zeqo"
      },
      "source": [
        "## 2.2 Setting a Default Value for an Attribute\n",
        "\n",
        "* When an instance is created, attributes can be defined without being passed in as parameters. These attributes can be defined in the __init__() method, where they are assigned a default value.\n",
        "\n",
        "* Let’s add an attribute called **odometer_reading** that always starts with a value of 0. We’ll also add a method **read_odometer()** that helps us read each car’s odometer:"
      ]
    },
    {
      "cell_type": "code",
      "execution_count": 28,
      "metadata": {
        "colab": {
          "base_uri": "https://localhost:8080/"
        },
        "id": "6mU4tQ9-3TBj",
        "outputId": "4cd91c49-ca56-426b-df9e-507ed4feff6b"
      },
      "outputs": [
        {
          "name": "stdout",
          "output_type": "stream",
          "text": [
            "2019 Audi A4\n",
            "This car has 0 miles on it.\n"
          ]
        }
      ],
      "source": [
        "class Car:\n",
        "  \"\"\"A simple attempt to represent a car.\"\"\"\n",
        "\n",
        "  def __init__(self, make, model, year):\n",
        "      self.make = make\n",
        "      self.model = model\n",
        "      self.year = year\n",
        "\n",
        "      # New Atrribute\n",
        "      self.odometer_reading = 0\n",
        "\n",
        "  def get_descriptive_name(self):\n",
        "      long_name = f\"{self.year} {self.make} {self.model}\"\n",
        "      return long_name.title()\n",
        "\n",
        "  # New Method\n",
        "  def read_odometer(self):\n",
        "      print(f\"This car has {self.odometer_reading} miles on it.\")\n",
        "\n",
        "\n",
        "\n",
        "my_new_car = Car('audi', 'a4', 2019)\n",
        "print(my_new_car.get_descriptive_name())\n",
        "my_new_car.read_odometer()"
      ]
    },
    {
      "attachments": {},
      "cell_type": "markdown",
      "metadata": {
        "id": "758VWretZhnR"
      },
      "source": [
        "\n",
        "\n",
        "---\n",
        "\n",
        "\n",
        "## 2.3 Modifying Attribute Values\n",
        "\n",
        "You can change an attribute’s value in three ways:\n",
        "\n",
        "1. you can change the value directly through an instance\n",
        "2. set the value through a method\n",
        "3. increment the value (add a certain amount to it) through a method.\n",
        "\n",
        "Let’s look at each of these approaches."
      ]
    },
    {
      "attachments": {},
      "cell_type": "markdown",
      "metadata": {
        "id": "AJciRh9Nrqtd"
      },
      "source": [
        "### 2.3.1 Modifying an Attribute’s Value Directly\n",
        "\n",
        "Here we set the odometer reading to 23 directly:"
      ]
    },
    {
      "cell_type": "code",
      "execution_count": 29,
      "metadata": {
        "colab": {
          "base_uri": "https://localhost:8080/"
        },
        "id": "AAFpdQMUsDOX",
        "outputId": "9e4a6907-b870-4f28-fd1a-1e3b720b1ae3"
      },
      "outputs": [
        {
          "name": "stdout",
          "output_type": "stream",
          "text": [
            "2019 Audi A4\n",
            "This car has 23 miles on it.\n"
          ]
        }
      ],
      "source": [
        "my_new_car = Car('audi', 'a4', 2019)\n",
        "print(my_new_car.get_descriptive_name())\n",
        "\n",
        "my_new_car.odometer_reading = 23\n",
        "my_new_car.read_odometer()"
      ]
    },
    {
      "attachments": {},
      "cell_type": "markdown",
      "metadata": {
        "id": "X38JRcjhsqCO"
      },
      "source": [
        "### 2.3.2 Modifying an Attribute’s Value Through a Method"
      ]
    },
    {
      "cell_type": "code",
      "execution_count": 30,
      "metadata": {
        "colab": {
          "base_uri": "https://localhost:8080/"
        },
        "id": "Q9UVhAzns4KF",
        "outputId": "cdd0f090-332d-41db-e334-8951d7348c91"
      },
      "outputs": [
        {
          "name": "stdout",
          "output_type": "stream",
          "text": [
            "2019 Audi A4\n",
            "This car has 23 miles on it.\n"
          ]
        }
      ],
      "source": [
        "class Car:\n",
        "  \"\"\"A simple attempt to represent a car.\"\"\"\n",
        "\n",
        "  def __init__(self, make, model, year):\n",
        "      self.make = make\n",
        "      self.model = model\n",
        "      self.year = year\n",
        "      self.odometer_reading = 0\n",
        "\n",
        "  def get_descriptive_name(self):\n",
        "      long_name = f\"{self.year} {self.make} {self.model}\"\n",
        "      return long_name.title()\n",
        "\n",
        "  def read_odometer(self):\n",
        "      print(f\"This car has {self.odometer_reading} miles on it.\")\n",
        "\n",
        "  # New Method\n",
        "  def update_odometer(self, mileage):\n",
        "      \"\"\"Set the odometer reading to the given value.\"\"\"\n",
        "      self.odometer_reading = mileage\n",
        "\n",
        "\n",
        "\n",
        "my_new_car = Car('audi', 'a4', 2019)\n",
        "print(my_new_car.get_descriptive_name())\n",
        "\n",
        "my_new_car.update_odometer(23)\n",
        "my_new_car.read_odometer()"
      ]
    },
    {
      "attachments": {},
      "cell_type": "markdown",
      "metadata": {
        "id": "r5XLQSU3tiJB"
      },
      "source": [
        "### 2.3.3 Incrementing an Attribute’s Value Through a Method"
      ]
    },
    {
      "cell_type": "code",
      "execution_count": 31,
      "metadata": {
        "colab": {
          "base_uri": "https://localhost:8080/",
          "height": 68
        },
        "id": "Ps_ivdBmttIy",
        "outputId": "3f4b7230-dd1f-40cc-b3e6-c1e8700bb842"
      },
      "outputs": [
        {
          "name": "stdout",
          "output_type": "stream",
          "text": [
            "2015 Subaru Outback\n",
            "This car has 23500 miles on it.\n",
            "This car has 23600 miles on it.\n"
          ]
        }
      ],
      "source": [
        "class Car:\n",
        "  \"\"\"A simple attempt to represent a car.\"\"\"\n",
        "\n",
        "  def __init__(self, make, model, year):\n",
        "      self.make = make\n",
        "      self.model = model\n",
        "      self.year = year\n",
        "      self.odometer_reading = 0\n",
        "\n",
        "  def get_descriptive_name(self):\n",
        "      long_name = f\"{self.year} {self.make} {self.model}\"\n",
        "      return long_name.title()\n",
        "\n",
        "  def read_odometer(self):\n",
        "      print(f\"This car has {self.odometer_reading} miles on it.\")\n",
        "\n",
        "  def update_odometer(self, mileage):\n",
        "      \"\"\"Set the odometer reading to the given value.\"\"\"\n",
        "      self.odometer_reading = mileage\n",
        "\n",
        "  # New Method\n",
        "  def increment_odometer(self, miles):\n",
        "    \"\"\"Add the given amount to the odometer reading.\"\"\"\n",
        "    self.odometer_reading += miles\n",
        "\n",
        "\n",
        "\n",
        "my_used_car = Car('subaru', 'outback', 2015)\n",
        "print(my_used_car.get_descriptive_name())\n",
        "\n",
        "my_used_car.update_odometer(23500)\n",
        "my_used_car.read_odometer()\n",
        "\n",
        "my_used_car.increment_odometer(100)\n",
        "my_used_car.read_odometer()"
      ]
    },
    {
      "cell_type": "code",
      "execution_count": 36,
      "metadata": {},
      "outputs": [
        {
          "name": "stdout",
          "output_type": "stream",
          "text": [
            "This car has 24100 miles on it.\n"
          ]
        }
      ],
      "source": [
        "my_used_car.increment_odometer(100)\n",
        "my_used_car.read_odometer()"
      ]
    },
    {
      "attachments": {},
      "cell_type": "markdown",
      "metadata": {
        "id": "XtWK1VYrt6Ql"
      },
      "source": [
        "## 2.4 TRY IT YOURSELF"
      ]
    },
    {
      "attachments": {},
      "cell_type": "markdown",
      "metadata": {
        "id": "oVREAaDfvmeU"
      },
      "source": [
        "### 2.4.1 Number Served\n",
        "\n",
        "* Start with your program from **Exercise 1.5.1**\n",
        "\n",
        "* Add an attribute called **number_served** with a default value of 0."
      ]
    },
    {
      "cell_type": "code",
      "execution_count": 10,
      "metadata": {
        "id": "FG5ZVfk2wReL"
      },
      "outputs": [],
      "source": [
        "# Write your code here.\n",
        "class Restaurant:\n",
        "    \"\"\" A simple attempt to model a restaurant.\"\"\"\n",
        "    def __init__(self, restaurant_name: str, cuisine_type: str):\n",
        "        \"\"\" Initialize restaurant_name and cuisine_type attributes.\"\"\"\n",
        "        self.restaurant_name = restaurant_name\n",
        "        self.cuisine_type = cuisine_type\n",
        "        \n",
        "        # Add an attribute\n",
        "        self.number_served = 0\n",
        "        \n",
        "    def describe_restaurant(self):\n",
        "        \"\"\" Describe the restaurant. \"\"\"\"\"\n",
        "        print(f\"{self.restaurant_name} serves {self.cuisine_type} food.\")\n",
        "        \n",
        "    def open_restaurant(self):\n",
        "        \"\"\" Print the message indicating that the restaurant is open. \"\"\"\n",
        "        print(f\"{self.restaurant_name} is open.\")\n",
        "\n",
        "    # New Method\n",
        "    def read_number_served(self):\n",
        "        \"\"\" Return the number of customers served. \"\"\"\n",
        "        print(f\"Number of customers served: {self.number_served}\")\n",
        "    \n",
        "    def set_number_served(self, num: int):\n",
        "        \"\"\" Set the number of customers served. \"\"\"\n",
        "        self.number_served = num\n",
        "    \n",
        "    def increment_number_served(self, num: int):\n",
        "        self.number_served += num\n",
        "        \n",
        "    \n"
      ]
    },
    {
      "attachments": {},
      "cell_type": "markdown",
      "metadata": {
        "id": "qyoGxtINyTjv"
      },
      "source": [
        "* Create an instance called **restaurant** from this class.\n",
        "  1. Print the number of customers the restaurant has served\n",
        "  2. Then change this value and print it again."
      ]
    },
    {
      "cell_type": "code",
      "execution_count": 13,
      "metadata": {
        "colab": {
          "base_uri": "https://localhost:8080/"
        },
        "id": "IjoMxrYTyUDZ",
        "outputId": "fda39b65-1603-4d6b-b206-7b17a5177c1b"
      },
      "outputs": [
        {
          "name": "stdout",
          "output_type": "stream",
          "text": [
            "Number of customers served: 0\n",
            "Now, the restaurant has served: 3\n"
          ]
        }
      ],
      "source": [
        "# Write your code here.\n",
        "# Print the number of customers the restaurant has served\n",
        "restaurant = Restaurant(\"BBQ\",\"Barbegon\")\n",
        "restaurant.read_number_served()\n",
        "\n",
        "# Change the number of customers served\n",
        "restaurant.number_served = 3 \n",
        "print(f\"Now, the restaurant has served: {restaurant.number_served}\")\n"
      ]
    },
    {
      "attachments": {},
      "cell_type": "markdown",
      "metadata": {
        "id": "qaEwNHolxRTu"
      },
      "source": [
        "* Add a method called **set_number_served()** that lets you set the number of customers that have been served.\n",
        "* Call this method with a new number and print the value again."
      ]
    },
    {
      "cell_type": "code",
      "execution_count": 14,
      "metadata": {
        "id": "diDk3dcSwBiq"
      },
      "outputs": [
        {
          "name": "stdout",
          "output_type": "stream",
          "text": [
            "Number of customers served: 10\n"
          ]
        }
      ],
      "source": [
        "# Write your code here.\n",
        "# call method set_number_served()\n",
        "restaurant.set_number_served(10)\n",
        "\n",
        "# print the value\n",
        "restaurant.read_number_served()\n"
      ]
    },
    {
      "attachments": {},
      "cell_type": "markdown",
      "metadata": {
        "id": "xGMHAySoyrAh"
      },
      "source": [
        "* Add a method called **increment_number_served()** that lets you increment the number of customers who’ve been served.\n",
        "* Call this method with any number you like that could represent how many customers were served in, say, a day of business."
      ]
    },
    {
      "cell_type": "code",
      "execution_count": 24,
      "metadata": {
        "id": "Ts5_l8Toy2N7"
      },
      "outputs": [
        {
          "name": "stdout",
          "output_type": "stream",
          "text": [
            "Number of customers served: 110\n"
          ]
        }
      ],
      "source": [
        "# Write your code here.\n",
        "\n",
        "restaurant.increment_number_served(10)\n",
        "restaurant.read_number_served()"
      ]
    },
    {
      "attachments": {},
      "cell_type": "markdown",
      "metadata": {
        "id": "ZH0Y-QrExifY"
      },
      "source": [
        "### 2.4.2 Login Attempts\n",
        "\n",
        "* Add an attribute called **login_attempts** to your User class from **Exercise 1.5.3**.\n",
        "\n",
        "* Write a method called **increment_login_attempts()** that increments the value of login_attempts by 1."
      ]
    },
    {
      "cell_type": "code",
      "execution_count": 55,
      "metadata": {
        "id": "cis3_RikyALX"
      },
      "outputs": [],
      "source": [
        "# Write your code here.\n",
        "import datetime\n",
        "\n",
        "class User:\n",
        "    \"\"\" A class that represents a user.\n",
        "    \n",
        "    Attributes:\n",
        "        first_name (str): First name of the user.\n",
        "        last_name (str): Last name of the user.\n",
        "        contact (int): Contact number of the user.\n",
        "        gender (str): Gender of the user.\n",
        "        birth_date (str): Birth date of the user format (YYYY-MM-DD).\n",
        "    \"\"\"\n",
        "    def __init__(self, first_name: str, last_name: str, contact: str, gender: str, birth_date: str):\n",
        "        self.first_name = first_name\n",
        "        self.last_name = last_name\n",
        "        self.contact = contact\n",
        "        self.gender = gender\n",
        "        self.birth_date = birth_date\n",
        "        # Calculate age from birth date\n",
        "        self.age = datetime.datetime.now().year - int(birth_date.split(\"-\")[0])\n",
        "        \n",
        "        # Login attempts\n",
        "        self.login_attempts = 0\n",
        "        \n",
        "    def descibe_user(self):\n",
        "        print(f\"\"\"\n",
        "        User Information:\n",
        "        - First Name: {self.first_name}\n",
        "        - Last Name: {self.last_name}\n",
        "        - Contact: {self.contact}\n",
        "        - Gender: {self.gender}\n",
        "        - Birth Date: {self.birth_date}  \n",
        "        - Age: {self.age}    \n",
        "        \"\"\")\n",
        "        \n",
        "    def greet_user(self):\n",
        "        print(f\"Hello {self.first_name} {self.last_name}! Welcome to the platform.\")\n",
        "\n",
        "    def increment_login_attempts(self):\n",
        "        \"\"\" Increment the login attempts by 1. \"\"\"\n",
        "        self.login_attempts += 1\n",
        "\n",
        "    def reset_login_attempts(self):\n",
        "        \"\"\" Reset the login attempts to 0. \"\"\"\n",
        "        self.login_attempts = 0\n"
      ]
    },
    {
      "attachments": {},
      "cell_type": "markdown",
      "metadata": {
        "id": "2n0y28esyFUH"
      },
      "source": [
        "* Write another method called **reset_login_attempts()** that resets the value of **login_attempts** to 0."
      ]
    },
    {
      "cell_type": "code",
      "execution_count": 56,
      "metadata": {
        "id": "Oic6cOoEyF4W"
      },
      "outputs": [
        {
          "name": "stdout",
          "output_type": "stream",
          "text": [
            "The number of current login attempt is 0\n"
          ]
        }
      ],
      "source": [
        "# Write your code here.\n",
        "me = User('Nattapong','Kongkaew', '12345', 'male', '2002-06-03')\n",
        "print(f\"The number of current login attempt is {me.login_attempts}\")\n"
      ]
    },
    {
      "attachments": {},
      "cell_type": "markdown",
      "metadata": {
        "id": "xX_DrWMayAe2"
      },
      "source": [
        "* Make an instance of the User class and call **increment_login_attempts()** several times.\n",
        "\n",
        "* Print the value of **login_attempts** to make sure it was incremented properly, and then call **reset_login_attempts()**.\n",
        "* Print **login_attempts** again to make sure it was reset to 0."
      ]
    },
    {
      "cell_type": "code",
      "execution_count": 70,
      "metadata": {
        "id": "OHhj4E3jyBRp"
      },
      "outputs": [
        {
          "name": "stdout",
          "output_type": "stream",
          "text": [
            "The number of current login attempt is 14\n"
          ]
        }
      ],
      "source": [
        "# Write your code here.\n",
        "# increase the number of login attempts\n",
        "me.increment_login_attempts()\n",
        "print(f\"The number of current login attempt is {me.login_attempts}\")"
      ]
    },
    {
      "cell_type": "code",
      "execution_count": 71,
      "metadata": {},
      "outputs": [
        {
          "name": "stdout",
          "output_type": "stream",
          "text": [
            "The number of current login attempt is 0\n"
          ]
        }
      ],
      "source": [
        "# reset the number of login attempts\n",
        "me.reset_login_attempts()\n",
        "print(f\"The number of current login attempt is {me.login_attempts}\")"
      ]
    },
    {
      "attachments": {},
      "cell_type": "markdown",
      "metadata": {
        "id": "gPTYU2Jet-A1"
      },
      "source": [
        "# 3 INHERITANCE\n",
        "\n",
        "* You don’t always have to start from scratch when writing a class.\n",
        "\n",
        "* If the class you’re writing is a specialized version of another class you wrote, you can use **inheritance**.\n",
        "\n",
        "* When one class inherits from another, it takes on the **attributes** and **methods** of the first class.\n",
        "\n",
        "* The original class is called the ***parent class***, and the new class is the ***child class***."
      ]
    },
    {
      "cell_type": "code",
      "execution_count": 72,
      "metadata": {
        "id": "rMMnA9l_ZkJK"
      },
      "outputs": [],
      "source": [
        "# electric_car.py\n",
        "\n",
        "class Car:\n",
        "  \"\"\"A simple attempt to represent a car.\"\"\"\n",
        "  def __init__(self, make, model, year):\n",
        "      self.make = make\n",
        "      self.model = model\n",
        "      self.year = year\n",
        "      self.odometer_reading = 0\n",
        "      self.power = 'fossil'\n",
        "\n",
        "  def get_descriptive_name(self):\n",
        "      long_name = f\"{self.year} {self.make} {self.model}\"\n",
        "      return long_name.title()\n",
        "\n",
        "  def read_odometer(self):\n",
        "      print(f\"This car has {self.odometer_reading} miles on it.\")\n",
        "\n",
        "  def update_odometer(self, mileage):\n",
        "      \"\"\"Set the odometer reading to the given value.\"\"\"\n",
        "      self.odometer_reading = mileage\n",
        "\n",
        "  def increment_odometer(self, miles):\n",
        "      \"\"\"Add the given amount to the odometer reading.\"\"\"\n",
        "      self.odometer_reading += miles\n",
        "    \n",
        "  def fill_gas_tank(self):\n",
        "      \"\"\" Fill the gas tank. \"\"\"\n",
        "      if self.power == 'fossil':\n",
        "        print(f\"Gas tank is full.\")\n",
        "      \n",
        "      elif self.power == 'electric':\n",
        "        print(f\"This type of car doesn't need a gas tank.\")"
      ]
    },
    {
      "attachments": {},
      "cell_type": "markdown",
      "metadata": {
        "id": "wJrjyBQg0KTS"
      },
      "source": [
        "## 3.1 The **__ init __( )** Method for a Child Class\n",
        "\n",
        "* When you’re writing a new class based on an existing class, you’ll often want to call the **__ init __( )** method from the parent class.\n",
        "\n",
        "* This will initialize any attributes that were defined in the parent **__ init __( )** method and make them available in the child class."
      ]
    },
    {
      "cell_type": "code",
      "execution_count": 79,
      "metadata": {
        "colab": {
          "base_uri": "https://localhost:8080/",
          "height": 34
        },
        "id": "Y6gxLYyy0486",
        "outputId": "9e416553-b282-4263-b6bb-fab77c75e80d"
      },
      "outputs": [
        {
          "name": "stdout",
          "output_type": "stream",
          "text": [
            "2019 Tesla Model S\n"
          ]
        }
      ],
      "source": [
        "# electric_car.py\n",
        "\n",
        "class ElectricCar(Car):\n",
        "  \"\"\"Represent aspects of a car, specific to electric vehicles.\"\"\"\n",
        "  \n",
        "  def __init__(self, make, model, year):\n",
        "    \"\"\"Initialize attributes of the parent class.\"\"\"\n",
        "    super().__init__(make, model, year)\n",
        "\n",
        "    # Attributes specific to the child class.\n",
        "    self.power = 'electric'\n",
        "    \n",
        "my_tesla = ElectricCar('tesla', 'model s', 2019)\n",
        "print(my_tesla.get_descriptive_name())"
      ]
    },
    {
      "cell_type": "code",
      "execution_count": 83,
      "metadata": {},
      "outputs": [
        {
          "name": "stdout",
          "output_type": "stream",
          "text": [
            "2019 Tesla Model S\n",
            "This type of car doesn't need a gas tank.\n"
          ]
        }
      ],
      "source": [
        "my_tesla = ElectricCar('tesla', 'model s', 2019)\n",
        "print(my_tesla.get_descriptive_name())\n",
        "\n",
        "# See the method fill_gas_tank() in action\n",
        "my_tesla.fill_gas_tank()"
      ]
    },
    {
      "cell_type": "code",
      "execution_count": 84,
      "metadata": {},
      "outputs": [
        {
          "name": "stdout",
          "output_type": "stream",
          "text": [
            "2019 Honda City\n",
            "Gas tank is full.\n"
          ]
        }
      ],
      "source": [
        "my_honda = Car('honda', 'city', 2019)\n",
        "print(my_honda.get_descriptive_name())\n",
        "\n",
        "# See the method fill_gas_tank() in action\n",
        "my_honda.fill_gas_tank()"
      ]
    },
    {
      "attachments": {},
      "cell_type": "markdown",
      "metadata": {
        "id": "W4yQ0MLq1InI"
      },
      "source": [
        "## 3.2 Defining Attributes and Methods for the Child Class\n",
        "\n",
        "* Once you have a ***child class*** that inherits from a ***parent class***, you can add any new **attributes** and **methods** necessary to differentiate the child class from the parent class."
      ]
    },
    {
      "cell_type": "code",
      "execution_count": 85,
      "metadata": {
        "colab": {
          "base_uri": "https://localhost:8080/"
        },
        "id": "sEk-ZZvI1J-2",
        "outputId": "029a5ea8-b617-4e04-d309-91b4ecf59c77"
      },
      "outputs": [
        {
          "name": "stdout",
          "output_type": "stream",
          "text": [
            "2019 Tesla Model S\n",
            "This car has a 100-kWh battery.\n"
          ]
        }
      ],
      "source": [
        "# electric_car.py\n",
        "\n",
        "class ElectricCar(Car):\n",
        "  \"\"\"Represent aspects of a car, specific to electric vehicles.\"\"\"\n",
        "  \n",
        "  def __init__(self, make, model, year, battery_size = 75):\n",
        "    \"\"\"Initialize attributes of the parent class.\"\"\"\n",
        "    super().__init__(make, model, year)\n",
        "    self.battery_size = battery_size\n",
        "    self.power = 'electric'\n",
        "\n",
        "  def describe_battery(self):\n",
        "    \"\"\"Print a statement describing the battery size.\"\"\"\n",
        "    print(f\"This car has a {self.battery_size}-kWh battery.\")\n",
        "\n",
        "\n",
        "my_tesla = ElectricCar('tesla', 'model s', 2019, battery_size=100)\n",
        "print(my_tesla.get_descriptive_name())\n",
        "my_tesla.describe_battery()"
      ]
    },
    {
      "attachments": {},
      "cell_type": "markdown",
      "metadata": {
        "id": "eV3A7pFqaau4"
      },
      "source": [
        "## 3.3 Overriding Methods from the Parent Class\n",
        "\n",
        "* You can override any method from the ***parent class*** that doesn’t fit what you’re trying to model with the ***child class***.\n",
        "\n",
        "* To do this, you define a method in the ***child class*** with the same name as the method you want to override in the ***parent class***.\n",
        "\n",
        "* Python will disregard the ***parent class*** **method** and only pay attention to the **method** you define in the ***child class***.\n",
        "\n",
        "\n",
        "> Say the class Car had a method called **fill_gas_tank()**. This method is meaningless for an all-electric vehicle, so you might want to override this method. Here’s one way to do that:\n",
        "\n"
      ]
    },
    {
      "cell_type": "code",
      "execution_count": 86,
      "metadata": {
        "id": "cwj_lZmAYM8X"
      },
      "outputs": [],
      "source": [
        "# electric_car.py\n",
        "\n",
        "class ElectricCar(Car):\n",
        "  \"\"\"Represent aspects of a car, specific to electric vehicles.\"\"\"\n",
        "\n",
        "  def __init__(self, make, model, year):\n",
        "    \"\"\"\n",
        "    Initialize attributes of the parent class.\n",
        "    Then initialize attributes specific to an electric car.\n",
        "    \"\"\"\n",
        "    super().__init__(make, model, year)\n",
        "    self.battery_size = 75\n",
        "    self.power = 'electric'\n",
        "\n",
        "  def describe_battery(self):\n",
        "    \"\"\"Print a statement describing the battery size.\"\"\"\n",
        "    print(f\"This car has a {self.battery_size}-kWh battery.\")\n",
        "\n",
        "  # New Method\n",
        "  def fill_gas_tank(self):\n",
        "    \"\"\"Electric cars don't have gas tanks.\"\"\"\n",
        "    if self.power == 'electric':\n",
        "      print(\"This car doesn't need a gas tank!\")\n",
        "\n",
        "\n",
        "# Now if someone tries to call fill_gas_tank() with an electric car,\n",
        "# Python will ignore the method fill_gas_tank() in Car and run this code instead."
      ]
    },
    {
      "attachments": {},
      "cell_type": "markdown",
      "metadata": {
        "id": "XGudTHbv-ZEt"
      },
      "source": [
        "## 3.4 Instances as Attributes\n",
        "\n",
        "\n",
        "* In code, you’ll find that you have a growing list of **attributes** and **methods** and that your files are becoming lengthy.\n",
        "\n",
        "* In these situations, you might recognize that part of one class can be written as a ***separate class***.\n",
        "\n",
        "* You can break your ***large class*** into ***smaller classes*** that work together."
      ]
    },
    {
      "cell_type": "code",
      "execution_count": 87,
      "metadata": {
        "colab": {
          "base_uri": "https://localhost:8080/"
        },
        "id": "BFfl3qNw-bUo",
        "outputId": "8e2f298e-c2c5-4e6e-84c1-57f36bb4f98a"
      },
      "outputs": [
        {
          "name": "stdout",
          "output_type": "stream",
          "text": [
            "2019 Tesla Model S\n",
            "This car has a 75-kWh battery.\n",
            "This car can go about 260 miles on a full charge.\n"
          ]
        }
      ],
      "source": [
        "# electric_car.py\n",
        "\n",
        "class Battery:\n",
        "  \"\"\"A simple attempt to model a battery for an electric car.\"\"\"\n",
        "  \n",
        "  def __init__(self, battery_size=75):\n",
        "    \"\"\"Initialize the battery's attributes.\"\"\"\n",
        "    self.battery_size = battery_size\n",
        "  \n",
        "  def describe_battery(self):\n",
        "    \"\"\"Print a statement describing the battery size.\"\"\"\n",
        "    print(f\"This car has a {self.battery_size}-kWh battery.\")\n",
        "\n",
        "  def get_range(self):\n",
        "    \"\"\"Print a statement about the range this battery provides.\"\"\"\n",
        "    if self.battery_size == 75:\n",
        "      range = 260\n",
        "    elif self.battery_size == 100:\n",
        "      range = 315\n",
        "    print(f\"This car can go about {range} miles on a full charge.\")  \n",
        "  def upgrade_battery(self):\n",
        "    self.battery_size = 100\n",
        "  \n",
        "  def degrade_battery(self):\n",
        "    self.battery_size = 75\n",
        "    \n",
        "\n",
        "\n",
        "\n",
        "class ElectricCar(Car):\n",
        "    \"\"\"Represent aspects of a car, specific to electric vehicles.\"\"\"\n",
        "\n",
        "    def __init__(self, make, model, year):\n",
        "        \"\"\"\n",
        "        Initialize attributes of the parent class.\n",
        "        Then initialize attributes specific to an electric car.\n",
        "        \"\"\"\n",
        "        super().__init__(make, model, year)\n",
        "        self.battery = Battery()\n",
        "\n",
        "\n",
        "\n",
        "my_tesla = ElectricCar('tesla', 'model s', 2019)\n",
        "\n",
        "print(my_tesla.get_descriptive_name())\n",
        "my_tesla.battery.describe_battery()\n",
        "my_tesla.battery.get_range()"
      ]
    },
    {
      "attachments": {},
      "cell_type": "markdown",
      "metadata": {
        "id": "YZlL0ylbAARJ"
      },
      "source": [
        "\n",
        "\n",
        "---\n",
        "\n",
        "\n",
        "## 3.5 TRY IT YOURSELF"
      ]
    },
    {
      "attachments": {},
      "cell_type": "markdown",
      "metadata": {
        "id": "zz1DJN0TADLS"
      },
      "source": [
        "### 3.5.1 Battery Upgrade:\n",
        "\n",
        "* Use the final version of **electric_car.py** from this section.\n",
        "\n",
        "* Add a method to the Battery class called **upgrade_battery()**. This method should check the battery size and set the capacity to 100 if it isn’t already."
      ]
    },
    {
      "cell_type": "code",
      "execution_count": 88,
      "metadata": {
        "id": "sAEizmLR_b_U"
      },
      "outputs": [
        {
          "name": "stdout",
          "output_type": "stream",
          "text": [
            "2019 Tesla Model S\n",
            "This car has a 75-kWh battery.\n",
            "This car can go about 260 miles on a full charge.\n",
            "Battery is not upgraded.\n",
            "This car has a 100-kWh battery.\n",
            "This car can go about 315 miles on a full charge.\n"
          ]
        }
      ],
      "source": [
        "# Write your code here.\n",
        "\n",
        "# electric_car.py\n",
        "\n",
        "class Battery:\n",
        "  \"\"\"A simple attempt to model a battery for an electric car.\"\"\"\n",
        "  \n",
        "  def __init__(self, battery_size=75):\n",
        "    \"\"\"Initialize the battery's attributes.\"\"\"\n",
        "    self.battery_size = battery_size\n",
        "  \n",
        "  def describe_battery(self):\n",
        "    \"\"\"Print a statement describing the battery size.\"\"\"\n",
        "    print(f\"This car has a {self.battery_size}-kWh battery.\")\n",
        "\n",
        "  def get_range(self):\n",
        "    \"\"\"Print a statement about the range this battery provides.\"\"\"\n",
        "    if self.battery_size == 75:\n",
        "      range = 260\n",
        "    elif self.battery_size == 100:\n",
        "      range = 315\n",
        "    print(f\"This car can go about {range} miles on a full charge.\")  \n",
        "    \n",
        "  def upgrade_battery(self):\n",
        "      if self.battery_size != 100:\n",
        "        print(\"Battery is not upgraded.\")\n",
        "        self.battery_size = 100\n",
        "         \n",
        "  def degrade_battery(self):\n",
        "    self.battery_size = 75\n",
        "\n",
        "\n",
        "\n",
        "class ElectricCar(Car):\n",
        "    \"\"\"Represent aspects of a car, specific to electric vehicles.\"\"\"\n",
        "\n",
        "    def __init__(self, make, model, year):\n",
        "        \"\"\"\n",
        "        Initialize attributes of the parent class.\n",
        "        Then initialize attributes specific to an electric car.\n",
        "        \"\"\"\n",
        "        super().__init__(make, model, year)\n",
        "        self.battery = Battery()\n",
        "\n",
        "\n",
        "\n",
        "my_tesla = ElectricCar('tesla', 'model s', 2019)\n",
        "\n",
        "print(my_tesla.get_descriptive_name())\n",
        "my_tesla.battery.describe_battery()\n",
        "my_tesla.battery.get_range()\n",
        "\n",
        "my_tesla.battery.upgrade_battery()\n",
        "my_tesla.battery.describe_battery()\n",
        "my_tesla.battery.get_range()\n"
      ]
    },
    {
      "attachments": {},
      "cell_type": "markdown",
      "metadata": {
        "id": "fRNhT29OCMeq"
      },
      "source": [
        "* Make an electric car with a default battery size, call **get_range()** once.\n",
        "\n",
        "* Then call **get_range()** a second time after **upgrading the battery**. You should see an increase in the car’s range."
      ]
    },
    {
      "cell_type": "code",
      "execution_count": 89,
      "metadata": {
        "id": "88n0O2a7CNyw"
      },
      "outputs": [
        {
          "name": "stdout",
          "output_type": "stream",
          "text": [
            "This car has a 75-kWh battery.\n",
            "This car can go about 260 miles on a full charge.\n",
            "\n",
            "\n",
            "Battery is not upgraded.\n",
            "This car has a 100-kWh battery.\n",
            "This car can go about 315 miles on a full charge.\n"
          ]
        }
      ],
      "source": [
        "# Write your code here.\n",
        "my_byd = ElectricCar(\"BYD\", \"E6\", 2019)\n",
        "my_byd.battery.describe_battery()\n",
        "my_byd.battery.get_range()\n",
        "\n",
        "print(\"\\n\")\n",
        "my_byd.battery.upgrade_battery()\n",
        "my_byd.battery.describe_battery()\n",
        "my_byd.battery.get_range()\n"
      ]
    },
    {
      "attachments": {},
      "cell_type": "markdown",
      "metadata": {},
      "source": [
        "# Rock Paper Scissor Game!"
      ]
    },
    {
      "cell_type": "code",
      "execution_count": 29,
      "metadata": {},
      "outputs": [
        {
          "name": "stdout",
          "output_type": "stream",
          "text": [
            "Welcome to Rock, Paper, Scissors!\n",
            "Max vs. Computer\n",
            "Round 1\n",
            "\n",
            "\n",
            "Max chose Paper\n",
            "Computer chose scissors\n",
            "Max wins!\n",
            "Max score: 1\n",
            "Computer score: 0\n",
            "Round 2\n",
            "\n",
            "\n",
            "Max chose Paper\n",
            "Computer chose scissors\n",
            "Max wins!\n",
            "Max score: 2\n",
            "Computer score: 0\n",
            "Round 3\n",
            "\n",
            "\n",
            "Max chose Paper\n",
            "Computer chose scissors\n",
            "Max wins!\n",
            "Max score: 3\n",
            "Computer score: 0\n",
            "Round 4\n",
            "\n",
            "\n",
            "Max chose Paper\n",
            "Computer chose paper\n",
            "Max wins!\n",
            "Max score: 4\n",
            "Computer score: 0\n",
            "Round 5\n",
            "\n",
            "\n",
            "Max chose Paper\n",
            "Computer chose paper\n",
            "Max wins!\n",
            "Max score: 5\n",
            "Computer score: 0\n"
          ]
        }
      ],
      "source": [
        "import random\n",
        "\n",
        "class Player:\n",
        "    def __init__(self):\n",
        "        self.gestures = [\"rock\", \"paper\", \"scissors\"]\n",
        "        self.result = \"\"\n",
        "        self.score = 0\n",
        "        \n",
        "    def choose_gesture(self):\n",
        "        pass\n",
        "    \n",
        "    def increment_score(self):\n",
        "        self.score += 1\n",
        "    \n",
        "class Human(Player):\n",
        "    def __init__(self):\n",
        "        super().__init__()\n",
        "        self.name = input(\"Please enter your name: \")\n",
        "\n",
        "        \n",
        "    def choose_gesture(self):\n",
        "        self.result = input(\"Please choose a gesture: \")\n",
        "        return self.result\n",
        "\n",
        "class Computer(Player):\n",
        "    def __init__(self):\n",
        "        super().__init__()\n",
        "        self.name = \"Computer\"\n",
        "    \n",
        "    def choose_gesture(self):\n",
        "        self.result = random.choice(self.gestures)\n",
        "        return self.result\n",
        "    \n",
        "class Game:\n",
        "    def __init__(self, player1, player2):\n",
        "        self.player1 = player1\n",
        "        self.player2 = player2\n",
        "        self.score = 0\n",
        "        # Rules tell you which gesture wins\n",
        "        self.rules = {\n",
        "            \"rock\": [\"scissors\"],\n",
        "            \"paper\": [\"rock\"],\n",
        "            \"scissors\": [\"paper\"]\n",
        "        }\n",
        "        \n",
        "        print(\"Welcome to Rock, Paper, Scissors!\")\n",
        "        print(f\"{self.player1.name} vs. {self.player2.name}\")\n",
        "    \n",
        "    def compare_gestures(self):\n",
        "        result1 = self.player1.result\n",
        "        result2 = self.player2.result\n",
        "        \n",
        "        # same result is tie\n",
        "        if result1 == result2:\n",
        "            print(\"It's a Tie!\")\n",
        "        elif result1 in self.rules[result2]:\n",
        "            print(f\"{self.player2.name} wins!\")\n",
        "            self.player2.increment_score()\n",
        "        else:\n",
        "            print(f\"{self.player1.name} wins!\")\n",
        "            self.player1.increment_score()\n",
        "        \n",
        "    def start(self, rounds = 3):\n",
        "        for i in range(rounds):\n",
        "            print(f\"Round {i+1}\")\n",
        "            print(\"\\n\")\n",
        "            self.player1.choose_gesture()\n",
        "            self.player2.choose_gesture()\n",
        "            \n",
        "            print(f\"{self.player1.name} chose {self.player1.result}\")\n",
        "            print(f\"{self.player2.name} chose {self.player2.result}\")\n",
        "            \n",
        "            self.compare_gestures()\n",
        "            print(f\"{self.player1.name} score: {self.player1.score}\")\n",
        "            print(f\"{self.player2.name} score: {self.player2.score}\")\n",
        "        \n",
        "human = Human()\n",
        "computer = Computer()\n",
        "game = Game(human, computer)\n",
        "game.start(5)"
      ]
    }
  ],
  "metadata": {
    "colab": {
      "provenance": []
    },
    "kernelspec": {
      "display_name": "Python 3",
      "name": "python3"
    },
    "language_info": {
      "codemirror_mode": {
        "name": "ipython",
        "version": 3
      },
      "file_extension": ".py",
      "mimetype": "text/x-python",
      "name": "python",
      "nbconvert_exporter": "python",
      "pygments_lexer": "ipython3",
      "version": "3.11.3"
    }
  },
  "nbformat": 4,
  "nbformat_minor": 0
}
